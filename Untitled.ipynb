{
 "cells": [
  {
   "cell_type": "code",
   "execution_count": 1,
   "id": "regular-grammar",
   "metadata": {},
   "outputs": [
    {
     "name": "stdout",
     "output_type": "stream",
     "text": [
      "125\n",
      "1.25Dollars\n",
      "0.04Quarter\n"
     ]
    }
   ],
   "source": [
    "total_change = int(input())\n",
    "dollars = int() # You don't have to initialize most variables in Python, so you can drop this line\n",
    "\n",
    "dollars = total_change / 100  # You want Floor division here // drops remainders on the floor\n",
    "if dollars > 1:  # This is fine\n",
    "    print(str(dollars) + 'Dollars')\n",
    "else:\n",
    "    print(str(dollars) + 'Dollar')\n",
    "    \n",
    "quarters = (total_change // 100) / 25  # I think you are confusing floor division // with modulus %\n",
    "if quarters > .25: # If I have more than .25 quarters probably isn't what you mean here\n",
    "    print(str(quarters) + 'Quarters')\n",
    "else:\n",
    "    print(str(quarters) + 'Quarter')\n",
    "    \n"
   ]
  },
  {
   "cell_type": "code",
   "execution_count": 14,
   "id": "f8f2a53c",
   "metadata": {},
   "outputs": [
    {
     "name": "stdout",
     "output_type": "stream",
     "text": [
      "Input your change in cents: \n",
      "149\n",
      "1 Dollar\n",
      "1 Quarter\n"
     ]
    }
   ],
   "source": [
    "total_change = int(input('Input your change in cents: \\n'))\n",
    "\n",
    "\n",
    "dollars = total_change // 100 # Divide by 100, drop the remainder\n",
    "if dollars > 1:\n",
    "    print(dollars + ' Dollars')\n",
    "elif dollars == 1:\n",
    "    print(\"1 Dollar\")  # You don't actually need to deal with a variable here\n",
    "elif dollars == 0:\n",
    "    print('-')\n",
    "else:\n",
    "    print(\"If I see this something is wrong\") # If you end up here something was probably wrong with input\n",
    "\n",
    "quarters = (total_change % 100) // 25  # take the remainder from dividing by 100 and divide by 25 drop remainder\n",
    "if quarters > 1:\n",
    "    print(quarters + ' Quarters')\n",
    "elif quarters == 1:\n",
    "    print('1 Quarter')\n",
    "elif quarters == 0:\n",
    "    print('-')\n",
    "else:\n",
    "    print(\"If I see this something is wrong\")\n",
    "    \n",
    "dimes = ((total_change % 100) % 25) // 10 # Remainder from //100, remainder from //25, divide by 10 drop remainder\n",
    "\n",
    "## Program continues from here\n"
   ]
  },
  {
   "cell_type": "code",
   "execution_count": 22,
   "id": "7f36b208",
   "metadata": {},
   "outputs": [
    {
     "name": "stdout",
     "output_type": "stream",
     "text": [
      "Input your chnage in cents: \n",
      "140\n",
      "1 dollar\n",
      "1 quarter\n",
      "1 dime\n",
      "1 nickle\n",
      "-\n"
     ]
    }
   ],
   "source": [
    "\n",
    "\n",
    "total_change = int(input('Input your chnage in cents: \\n'))\n",
    "\n",
    "dollars = total_change // 100\n",
    "quarters = (total_change % 100) // 25\n",
    "dimes = ((total_change % 100) % 25) // 10\n",
    "nickles = (((total_change % 100) % 25) %10) //5\n",
    "pennies = ((((total_change % 100) % 25) %10) % 5)\n",
    "           \n",
    "def coin_print(coin_count, singular, plural):\n",
    "    if coin_count > 1:\n",
    "        print(str(coin_count) + ' ' + plural)\n",
    "    elif coin_count == 1:\n",
    "        print(str(coin_count) + ' ' + singular)\n",
    "    elif coin_count == 0:\n",
    "        print('-')\n",
    "    else:\n",
    "        print(\"Weirdness must have happened\")\n",
    "        \n",
    "coin_print(dollars, 'dollar', 'dollars')\n",
    "coin_print(quarters, 'quarter', 'quarters')\n",
    "coin_print(dimes, 'dime', 'dimes')\n",
    "coin_print(nickles, 'nickle', 'nickles')\n",
    "coin_print(pennies, 'penny', 'pennies')"
   ]
  },
  {
   "cell_type": "code",
   "execution_count": null,
   "id": "51f1c024",
   "metadata": {},
   "outputs": [],
   "source": []
  },
  {
   "cell_type": "code",
   "execution_count": null,
   "id": "81bc7ef4",
   "metadata": {},
   "outputs": [],
   "source": []
  }
 ],
 "metadata": {
  "kernelspec": {
   "display_name": "Python 3 (ipykernel)",
   "language": "python",
   "name": "python3"
  },
  "language_info": {
   "codemirror_mode": {
    "name": "ipython",
    "version": 3
   },
   "file_extension": ".py",
   "mimetype": "text/x-python",
   "name": "python",
   "nbconvert_exporter": "python",
   "pygments_lexer": "ipython3",
   "version": "3.10.6"
  }
 },
 "nbformat": 4,
 "nbformat_minor": 5
}
